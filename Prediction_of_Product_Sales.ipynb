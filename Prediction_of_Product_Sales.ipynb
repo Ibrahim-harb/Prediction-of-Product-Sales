{
  "nbformat": 4,
  "nbformat_minor": 0,
  "metadata": {
    "colab": {
      "provenance": [],
      "authorship_tag": "ABX9TyOIzSSrK02qTKx/FNGmCxPB",
      "include_colab_link": true
    },
    "kernelspec": {
      "name": "python3",
      "display_name": "Python 3"
    },
    "language_info": {
      "name": "python"
    }
  },
  "cells": [
    {
      "cell_type": "markdown",
      "metadata": {
        "id": "view-in-github",
        "colab_type": "text"
      },
      "source": [
        "<a href=\"https://colab.research.google.com/github/Ibrahim-harb/Prediction-of-Product-Sales/blob/main/Prediction_of_Product_Sales.ipynb\" target=\"_parent\"><img src=\"https://colab.research.google.com/assets/colab-badge.svg\" alt=\"Open In Colab\"/></a>"
      ]
    },
    {
      "cell_type": "code",
      "execution_count": 5,
      "metadata": {
        "colab": {
          "base_uri": "https://localhost:8080/",
          "height": 411
        },
        "id": "Wj6-S4IRbrtc",
        "outputId": "d5ff181d-9b01-46be-9c81-03654fd539dd"
      },
      "outputs": [
        {
          "output_type": "display_data",
          "data": {
            "text/plain": [
              "<IPython.core.display.Markdown object>"
            ],
            "text/markdown": "\n# Project 1: Prediction of Product Sales \n-Author: Ibrahim Harb\n\n## Project Overview\n\n## Load and Inspect Data\n-\n## Clean Data\n-\n## Exploratory Data Analysis\n-\n## Feature Inspection\n-\n"
          },
          "metadata": {}
        }
      ],
      "source": [
        "\n",
        "text = \"\"\"\n",
        "# Project 1: Prediction of Product Sales\n",
        "-Author: Ibrahim Harb\n",
        "\n",
        "## Project Overview\n",
        "\n",
        "## Load and Inspect Data\n",
        "-\n",
        "## Clean Data\n",
        "-\n",
        "## Exploratory Data Analysis\n",
        "-\n",
        "## Feature Inspection\n",
        "-\n",
        "\"\"\"\n",
        "\n",
        "display(Markdown(text))"
      ]
    }
  ]
}